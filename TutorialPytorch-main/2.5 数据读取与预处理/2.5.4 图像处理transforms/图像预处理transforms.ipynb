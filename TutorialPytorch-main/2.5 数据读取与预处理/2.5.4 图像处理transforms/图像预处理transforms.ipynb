{
 "cells": [
  {
   "cell_type": "code",
   "execution_count": 1,
   "metadata": {},
   "outputs": [
    {
     "name": "stdout",
     "output_type": "stream",
     "text": [
      "image before resize: 400 300\n",
      "image after resize: 256 256\n"
     ]
    }
   ],
   "source": [
    "from torchvision import transforms\n",
    "import torch\n",
    "import numpy as np\n",
    "from PIL import Image\n",
    "\n",
    "image = Image.open(\"desk.jpg\")\n",
    "print(\"image before resize:\", image.width, image.height)\n",
    "resize = transforms.Resize(size=(256, 256))\n",
    "image = resize(image)\n",
    "print(\"image after resize:\", image.width, image.height)\n",
    "# 输出结果：\n",
    "# image before resize: 400 300\n",
    "# image after resize: 256 256"
   ]
  },
  {
   "cell_type": "code",
   "execution_count": 2,
   "metadata": {},
   "outputs": [
    {
     "name": "stdout",
     "output_type": "stream",
     "text": [
      "min before to tensor: 1\n",
      "max before to tensor: 255\n",
      "shape before to tensor (256, 256, 3)\n",
      "min after to tensor: tensor(0.0039)\n",
      "min after to tensor: tensor(1.)\n",
      "shape after to tensor torch.Size([3, 256, 256])\n"
     ]
    }
   ],
   "source": [
    "print(\"min before to tensor:\", np.array(image).min())\n",
    "print(\"max before to tensor:\", np.array(image).max())\n",
    "print(\"shape before to tensor\", np.array(image).shape)\n",
    "to_tensor = transforms.ToTensor()\n",
    "image = to_tensor(image)\n",
    "print(\"min after to tensor:\", image.min())\n",
    "print(\"max after to tensor:\", image.max())\n",
    "print(\"shape after to tensor\", image.shape)\n",
    "# 输出结果：\n",
    "# min before to tensor: 1\n",
    "# max before to tensor: 255\n",
    "# shape before to tensor (256, 256, 3)\n",
    "# min after to tensor: tensor(0.0039)\n",
    "# max after to tensor: tensor(1.)\n",
    "# shape after to tensor torch.Size([3, 256, 256])"
   ]
  },
  {
   "cell_type": "code",
   "execution_count": 3,
   "metadata": {},
   "outputs": [
    {
     "name": "stdout",
     "output_type": "stream",
     "text": [
      "min after normalize: tensor(-0.9922)\n",
      "min after normalize: tensor(1.)\n"
     ]
    }
   ],
   "source": [
    "normalize = transforms.Normalize(mean=(0.5, 0.5, 0.5), \n",
    "                                 std=(0.5, 0.5, 0.5))\n",
    "image = normalize(image)\n",
    "print(\"min after normalize:\", image.min())\n",
    "print(\"max after normalize:\", image.max())\n",
    "# 输出结果：\n",
    "# min after normalize: tensor(-0.9922)\n",
    "# max after normalize: tensor(1.)"
   ]
  },
  {
   "cell_type": "code",
   "execution_count": 4,
   "metadata": {},
   "outputs": [
    {
     "name": "stdout",
     "output_type": "stream",
     "text": [
      "image size: torch.Size([3, 256, 256])\n",
      "image min: tensor(-0.9922)\n",
      "image max: tensor(1.)\n"
     ]
    }
   ],
   "source": [
    "image = Image.open(\"desk.jpg\")\n",
    "compose = transforms.Compose([\n",
    "    transforms.Resize(size=(256, 256)),\n",
    "    transforms.ToTensor(),\n",
    "    transforms.Normalize(mean=(0.5, 0.5, 0.5), std=(0.5, 0.5, 0.5))\n",
    "])\n",
    "image = compose(image)\n",
    "print(\"image size:\", image.size())\n",
    "print(\"image min:\", image.min())\n",
    "print(\"image max:\", image.max())\n",
    "# 输出结果：\n",
    "# image size: torch.Size([3, 256, 256])\n",
    "# image min: tensor(-0.9922)\n",
    "# image max: tensor(1.)"
   ]
  },
  {
   "cell_type": "code",
   "execution_count": 8,
   "metadata": {},
   "outputs": [],
   "source": [
    "image = Image.open(\"desk.jpg\")\n",
    "# 将Image转为Tensor\n",
    "to_tensor = transforms.ToTensor()\n",
    "tensor_image = to_tensor(image)\n",
    "\n",
    "# 将Tensor转为Image\n",
    "to_pil = transforms.ToPILImage()\n",
    "pil_image = to_pil(tensor_image)\n",
    "pil_image.save(\"new_desk.jpg\")"
   ]
  },
  {
   "cell_type": "code",
   "execution_count": null,
   "metadata": {},
   "outputs": [],
   "source": []
  },
  {
   "cell_type": "code",
   "execution_count": null,
   "metadata": {},
   "outputs": [],
   "source": []
  },
  {
   "cell_type": "code",
   "execution_count": null,
   "metadata": {},
   "outputs": [],
   "source": []
  }
 ],
 "metadata": {
  "kernelspec": {
   "display_name": "Python 3",
   "language": "python",
   "name": "python3"
  },
  "language_info": {
   "codemirror_mode": {
    "name": "ipython",
    "version": 3
   },
   "file_extension": ".py",
   "mimetype": "text/x-python",
   "name": "python",
   "nbconvert_exporter": "python",
   "pygments_lexer": "ipython3",
   "version": "3.6.4"
  }
 },
 "nbformat": 4,
 "nbformat_minor": 2
}
