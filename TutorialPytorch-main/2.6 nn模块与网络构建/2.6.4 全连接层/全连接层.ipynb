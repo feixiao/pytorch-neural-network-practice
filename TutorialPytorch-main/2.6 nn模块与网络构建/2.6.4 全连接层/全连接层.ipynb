{
 "cells": [
  {
   "cell_type": "code",
   "execution_count": 6,
   "metadata": {},
   "outputs": [
    {
     "name": "stdout",
     "output_type": "stream",
     "text": [
      "weight = tensor([[-0.3636, -0.3623, -0.2010]])\n",
      "bias = tensor([-0.3968])\n",
      "y = weight * x + bias = tensor([[-1.3237]], grad_fn=<AddmmBackward>)\n"
     ]
    }
   ],
   "source": [
    "import torch\n",
    "import torch.nn as nn\n",
    "\n",
    "# 输入项x的维度是(1, 3)\n",
    "x = torch.Tensor([[1, 1, 1]])\n",
    "\n",
    "# 创建全连接层，\n",
    "linear = nn.Linear(in_features=3, out_features=1)\n",
    "\n",
    "# 获取全连接层的权重和偏差值\n",
    "print(\"weight =\", linear.weight.data)\n",
    "print(\"bias =\", linear.bias.data)\n",
    "\n",
    "# 计算全连接层的输出\n",
    "y = linear(x)\n",
    "print(\"y = weight * x + bias =\", y)\n",
    "\n",
    "# 输出结果：\n",
    "# weight = tensor([[-0.5105, -0.1599, -0.5077]])\n",
    "# bias = tensor([-0.0222])\n",
    "# y = weight * x + bias = tensor([[-1.2002]], grad_fn=<AddmmBackward>)"
   ]
  },
  {
   "cell_type": "code",
   "execution_count": 2,
   "metadata": {},
   "outputs": [
    {
     "data": {
      "text/plain": [
       "0.36450000000000005"
      ]
     },
     "execution_count": 2,
     "metadata": {},
     "output_type": "execute_result"
    }
   ],
   "source": [
    "0.5672 -0.1893 +  0.0312 - 0.0446"
   ]
  },
  {
   "cell_type": "code",
   "execution_count": null,
   "metadata": {
    "scrolled": false
   },
   "outputs": [],
   "source": []
  },
  {
   "cell_type": "code",
   "execution_count": null,
   "metadata": {},
   "outputs": [],
   "source": []
  }
 ],
 "metadata": {
  "kernelspec": {
   "display_name": "Python 3",
   "language": "python",
   "name": "python3"
  },
  "language_info": {
   "codemirror_mode": {
    "name": "ipython",
    "version": 3
   },
   "file_extension": ".py",
   "mimetype": "text/x-python",
   "name": "python",
   "nbconvert_exporter": "python",
   "pygments_lexer": "ipython3",
   "version": "3.6.4"
  }
 },
 "nbformat": 4,
 "nbformat_minor": 2
}
