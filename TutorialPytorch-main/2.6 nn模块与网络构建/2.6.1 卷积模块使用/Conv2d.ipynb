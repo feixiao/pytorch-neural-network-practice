{
 "cells": [
  {
   "cell_type": "code",
   "execution_count": 2,
   "metadata": {
    "scrolled": true
   },
   "outputs": [],
   "source": [
    "import torch\n",
    "import torch.nn as nn"
   ]
  },
  {
   "cell_type": "code",
   "execution_count": null,
   "metadata": {},
   "outputs": [],
   "source": []
  },
  {
   "cell_type": "code",
   "execution_count": 1,
   "metadata": {},
   "outputs": [
    {
     "name": "stdout",
     "output_type": "stream",
     "text": [
      "torch.Size([1, 3, 400, 400])\n"
     ]
    }
   ],
   "source": [
    "import torch\n",
    "data_in = torch.randn(size=(1, 3, 400, 400))\n",
    "print(data_in.size())\n",
    "# 输出结果"
   ]
  },
  {
   "cell_type": "code",
   "execution_count": 16,
   "metadata": {},
   "outputs": [
    {
     "name": "stdout",
     "output_type": "stream",
     "text": [
      "torch.Size([1, 3, 300, 400])\n",
      "torch.Size([1, 3, 300, 400])\n",
      "torch.Size([1, 3, 300, 400])\n",
      "torch.Size([1, 3, 300, 400])\n"
     ]
    }
   ],
   "source": [
    "k_size = [1, 3, 5, 7]\n",
    "stride = [1, 1, 1, 1]\n",
    "pad = [0, 1, 2, 3]\n",
    "# 输入和输出通道数均设为3\n",
    "ch_in = 3\n",
    "ch_out = 3\n",
    "\n",
    "for i in range(len(k_size)):\n",
    "    conv2d = nn.Conv2d(ch_in, ch_out, k_size[i], stride[i], pad[i])\n",
    "    print(conv2d(data_in).size())"
   ]
  },
  {
   "cell_type": "code",
   "execution_count": null,
   "metadata": {},
   "outputs": [],
   "source": []
  },
  {
   "cell_type": "code",
   "execution_count": null,
   "metadata": {
    "scrolled": false
   },
   "outputs": [],
   "source": []
  },
  {
   "cell_type": "code",
   "execution_count": null,
   "metadata": {},
   "outputs": [],
   "source": []
  }
 ],
 "metadata": {
  "kernelspec": {
   "display_name": "Python 3",
   "language": "python",
   "name": "python3"
  },
  "language_info": {
   "codemirror_mode": {
    "name": "ipython",
    "version": 3
   },
   "file_extension": ".py",
   "mimetype": "text/x-python",
   "name": "python",
   "nbconvert_exporter": "python",
   "pygments_lexer": "ipython3",
   "version": "3.6.4"
  }
 },
 "nbformat": 4,
 "nbformat_minor": 2
}
