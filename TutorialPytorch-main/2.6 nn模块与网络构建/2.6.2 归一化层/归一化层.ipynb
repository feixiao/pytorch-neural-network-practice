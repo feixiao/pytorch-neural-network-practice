{
 "cells": [
  {
   "cell_type": "code",
   "execution_count": 20,
   "metadata": {},
   "outputs": [
    {
     "name": "stdout",
     "output_type": "stream",
     "text": [
      "tensor([[[[ 1.0502, -1.8742],\n",
      "          [-1.3772,  0.2333]]],\n",
      "\n",
      "\n",
      "        [[[ 0.1418,  0.1692],\n",
      "          [ 0.9072,  0.7496]]]], grad_fn=<NativeBatchNormBackward>)\n"
     ]
    }
   ],
   "source": [
    "import torch\n",
    "import torch.nn as nn\n",
    "\n",
    "num_channels = 1\n",
    "in_feature = torch.randn(2, num_channels, 2, 2)\n",
    "# 定义bn模块，需要指定输入特征图的通道数\n",
    "bn = nn.BatchNorm2d(num_channels, affine=True)\n",
    "out_feature = bn(in_feature)\n",
    "print(out_feature)"
   ]
  },
  {
   "cell_type": "code",
   "execution_count": 14,
   "metadata": {},
   "outputs": [
    {
     "name": "stdout",
     "output_type": "stream",
     "text": [
      "own  bn:  tensor([[[ 0.2509, -1.2462],\n",
      "         [ 1.3208,  0.9310]],\n",
      "\n",
      "        [[ 0.6266,  0.7225],\n",
      "         [ 0.0165, -0.5520]],\n",
      "\n",
      "        [[-1.8498,  0.5111],\n",
      "         [-0.8439,  1.9826]],\n",
      "\n",
      "        [[-0.0465, -0.9930],\n",
      "         [-1.0839,  0.2534]]], grad_fn=<AddBackward0>)\n",
      "standard bn:  tensor([[[ 0.2509, -1.2462],\n",
      "         [ 1.3208,  0.9310]],\n",
      "\n",
      "        [[ 0.6266,  0.7225],\n",
      "         [ 0.0165, -0.5520]],\n",
      "\n",
      "        [[-1.8498,  0.5111],\n",
      "         [-0.8439,  1.9826]],\n",
      "\n",
      "        [[-0.0465, -0.9930],\n",
      "         [-1.0839,  0.2534]]], grad_fn=<SliceBackward>)\n"
     ]
    }
   ],
   "source": [
    "# 下面这个方法太复杂了，不做介绍\n",
    "import torch\n",
    "import torch.nn as nn\n",
    "\n",
    "# 定义特征图的通道数\n",
    "num_channels = 16\n",
    "# 生成batchsize为4且长宽为2的输入特征图\n",
    "in_feat = torch.randn(4, num_channels, 2, 2)\n",
    "# 定义BN\n",
    "bn = nn.BatchNorm2d(num_channels,affine=True)\n",
    "# 计算输出特征图\n",
    "out_feat = bn(in_feat)\n",
    "\n",
    "# first_feat代表输入特征图的首个通道的特征图\n",
    "first_feat = in_feat[:,0,:,:]\n",
    "# 计算first_feat的均值和方差\n",
    "mean = torch.Tensor.mean(first_feat)\n",
    "var = torch.Tensor.var(first_feat, False)\n",
    "\n",
    "# 获取bn的首个通道的参数值\n",
    "gamma = bn.weight[0]\n",
    "beta = bn.bias[0]\n",
    "eps = bn.eps\n",
    "\n",
    "# 按照bn的计算公式手动计算输出特征图\n",
    "out_feat_own = ((in_feat[:, 0, :, :] - mean)/(torch.pow(var + eps,0.5) )) * gamma + beta\n",
    "\n",
    "print(\"own  bn: \", out_feat_own)\n",
    "print(\"standard bn: \", out_feat[:, 0, :, :])"
   ]
  },
  {
   "cell_type": "code",
   "execution_count": null,
   "metadata": {},
   "outputs": [],
   "source": []
  },
  {
   "cell_type": "code",
   "execution_count": null,
   "metadata": {},
   "outputs": [],
   "source": []
  }
 ],
 "metadata": {
  "kernelspec": {
   "display_name": "Python 3",
   "language": "python",
   "name": "python3"
  },
  "language_info": {
   "codemirror_mode": {
    "name": "ipython",
    "version": 3
   },
   "file_extension": ".py",
   "mimetype": "text/x-python",
   "name": "python",
   "nbconvert_exporter": "python",
   "pygments_lexer": "ipython3",
   "version": "3.6.4"
  }
 },
 "nbformat": 4,
 "nbformat_minor": 2
}
