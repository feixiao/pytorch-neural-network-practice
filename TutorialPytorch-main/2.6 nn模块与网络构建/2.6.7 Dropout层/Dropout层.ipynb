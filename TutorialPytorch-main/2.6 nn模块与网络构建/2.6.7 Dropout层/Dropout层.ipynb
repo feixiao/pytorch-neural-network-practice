{
 "cells": [
  {
   "cell_type": "code",
   "execution_count": 2,
   "metadata": {},
   "outputs": [
    {
     "name": "stdout",
     "output_type": "stream",
     "text": [
      "tensor([-0.0000, -0.2005,  0.0000, -0.0000,  0.0000], grad_fn=<SliceBackward>)\n",
      "tensor([ 0.0000, -0.4509, -3.0469,  1.1923,  0.0000], grad_fn=<SliceBackward>)\n",
      "tensor([-3.2769, -1.1452, -0.8215, -4.7623,  0.0000], grad_fn=<SliceBackward>)\n",
      "tensor([-2.1963, -0.0000,  0.0000,  0.0000,  0.0000], grad_fn=<SliceBackward>)\n",
      "tensor([ 0.0000,  0.0000, -0.0000,  1.1707, -0.2683], grad_fn=<SliceBackward>)\n",
      "tensor([-0.0000, -0.0000, -3.2095,  0.0000,  0.7725], grad_fn=<SliceBackward>)\n"
     ]
    }
   ],
   "source": [
    "import torch \n",
    "import torch.nn as nn\n",
    "\n",
    "class Net(nn.Module):\n",
    "    def __init__(self, ch_in, ch_out, drop_rate):\n",
    "        super().__init__()\n",
    "        # 定义全连接层和Dropout层\n",
    "        self.linear = nn.Linear(ch_in, ch_out)\n",
    "        self.dropout = nn.Dropout(p=drop_rate)\n",
    "    \n",
    "    def forward(self, x):\n",
    "        out = self.linear(x)\n",
    "        out = self.dropout(out)\n",
    "        return out\n",
    "\n",
    "x = torch.Tensor([[1, 2]])\n",
    "# 设定网络的输入通道数为2，输出通道数为30\n",
    "# 并且将dropout的概率值设定为0.5\n",
    "net = Net(2, 30, 0.5)\n",
    "net.train()\n",
    "y_train = net(x)\n",
    "print(y_train[0][0:5])\n",
    "print(y_train[0][5:10])\n",
    "print(y_train[0][10:15])\n",
    "print(y_train[0][15:20])\n",
    "print(y_train[0][20:25])\n",
    "print(y_train[0][25:30])\n",
    "\n",
    "# 输出结果\n",
    "# tensor([-2.3997, -0.3089,  1.2074, -1.5255,  1.7785], grad_fn=<SliceBackward>)\n",
    "# tensor([ 0.0000,  0.0000, -0.0000,  3.5722, -0.6514], grad_fn=<SliceBackward>)\n",
    "# tensor([ 0.0000,  2.2714, -1.9449,  3.4509,  0.0000], grad_fn=<SliceBackward>)\n",
    "# tensor([ 0.0000, -0.0000, -0.0000, -0.5461, -2.6412], grad_fn=<SliceBackward>)\n",
    "# tensor([-0.0000,  0.0000,  0.0000, -0.6707, -0.0000], grad_fn=<SliceBackward>)\n",
    "# tensor([ 2.1796,  2.0366,  1.1182,  0.0000, -0.1211], grad_fn=<SliceBackward>)"
   ]
  },
  {
   "cell_type": "code",
   "execution_count": 15,
   "metadata": {},
   "outputs": [
    {
     "name": "stdout",
     "output_type": "stream",
     "text": [
      "tensor([-0.9247, -0.1002,  0.8885, -0.0378,  0.5691], grad_fn=<SliceBackward>)\n",
      "tensor([ 0.1411, -0.2255, -1.5234,  0.5962,  0.8757], grad_fn=<SliceBackward>)\n",
      "tensor([-1.6384, -0.5726, -0.4108, -2.3811,  1.6277], grad_fn=<SliceBackward>)\n",
      "tensor([-1.0982, -1.1270,  0.6909,  1.2178,  0.2487], grad_fn=<SliceBackward>)\n",
      "tensor([ 0.0269,  0.4974, -0.5053,  0.5853, -0.1342], grad_fn=<SliceBackward>)\n",
      "tensor([-0.7507, -0.6938, -1.6047,  0.2774,  0.3862], grad_fn=<SliceBackward>)\n"
     ]
    }
   ],
   "source": [
    "net.eval()\n",
    "y_eval = net(x)\n",
    "print(y_eval[0][0:5])\n",
    "print(y_eval[0][5:10])\n",
    "print(y_eval[0][10:15])\n",
    "print(y_eval[0][15:20])\n",
    "print(y_eval[0][20:25])\n",
    "print(y_eval[0][25:30])\n",
    "# 输出结果：\n",
    "# tensor([-0.9247, -0.1002,  0.8885, -0.0378,  0.5691], grad_fn=<SliceBackward>)\n",
    "# tensor([ 0.1411, -0.2255, -1.5234,  0.5962,  0.8757], grad_fn=<SliceBackward>)\n",
    "# tensor([-1.6384, -0.5726, -0.4108, -2.3811,  1.6277], grad_fn=<SliceBackward>)\n",
    "# tensor([-1.0982, -1.1270,  0.6909,  1.2178,  0.2487], grad_fn=<SliceBackward>)\n",
    "# tensor([ 0.0269,  0.4974, -0.5053,  0.5853, -0.1342], grad_fn=<SliceBackward>)\n",
    "# tensor([-0.7507, -0.6938, -1.6047,  0.2774,  0.3862], grad_fn=<SliceBackward>)"
   ]
  },
  {
   "cell_type": "code",
   "execution_count": 12,
   "metadata": {},
   "outputs": [
    {
     "name": "stdout",
     "output_type": "stream",
     "text": [
      "tensor([-0., -0., 0., -0., 0.], grad_fn=<SliceBackward>)\n",
      "tensor([ 0.2821, -0.4509, -0.0000,  0.0000,  0.0000], grad_fn=<SliceBackward>)\n",
      "tensor([-0.0000, -1.1452, -0.0000, -0.0000,  3.2555], grad_fn=<SliceBackward>)\n",
      "tensor([-2.1963, -2.2540,  1.3818,  2.4357,  0.4973], grad_fn=<SliceBackward>)\n",
      "tensor([ 0.0000,  0.9948, -1.0106,  0.0000, -0.2683], grad_fn=<SliceBackward>)\n",
      "tensor([-1.5014, -0.0000, -0.0000,  0.5548,  0.7725], grad_fn=<SliceBackward>)\n"
     ]
    }
   ],
   "source": [
    "net.train()\n",
    "y_eval = net(x)\n",
    "print(y_eval[0][0:5])\n",
    "print(y_eval[0][5:10])\n",
    "print(y_eval[0][10:15])\n",
    "print(y_eval[0][15:20])\n",
    "print(y_eval[0][20:25])\n",
    "print(y_eval[0][25:30])"
   ]
  },
  {
   "cell_type": "code",
   "execution_count": null,
   "metadata": {},
   "outputs": [],
   "source": []
  }
 ],
 "metadata": {
  "kernelspec": {
   "display_name": "Python 3",
   "language": "python",
   "name": "python3"
  },
  "language_info": {
   "codemirror_mode": {
    "name": "ipython",
    "version": 3
   },
   "file_extension": ".py",
   "mimetype": "text/x-python",
   "name": "python",
   "nbconvert_exporter": "python",
   "pygments_lexer": "ipython3",
   "version": "3.6.4"
  }
 },
 "nbformat": 4,
 "nbformat_minor": 2
}
