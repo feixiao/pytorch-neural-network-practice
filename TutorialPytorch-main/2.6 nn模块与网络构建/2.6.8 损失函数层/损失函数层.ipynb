{
 "cells": [
  {
   "cell_type": "code",
   "execution_count": 4,
   "metadata": {},
   "outputs": [
    {
     "name": "stdout",
     "output_type": "stream",
     "text": [
      "mean loss:  tensor(0.5000)\n",
      "sum loss:  tensor(2.)\n"
     ]
    }
   ],
   "source": [
    "import torch\n",
    "import torch.nn as nn\n",
    "\n",
    "x = torch.Tensor([1, 2, 3, 4])\n",
    "y = torch.Tensor([1, 3, 3, 5])\n",
    "\n",
    "# 计算损失的平均值\n",
    "l1_loss_mean = nn.L1Loss(reduction=\"mean\")\n",
    "loss = l1_loss_mean(x, y)\n",
    "print(\"mean loss: \", loss)\n",
    "\n",
    "# 计算损失的求和值\n",
    "l1_loss_sum = nn.L1Loss(reduction=\"sum\")\n",
    "loss = l1_loss_sum(x, y)\n",
    "print(\"sum loss: \", loss)\n",
    "\n",
    "# 输出结果：\n",
    "# mean loss:  tensor(0.5000)\n",
    "# sum loss:  tensor(2.)"
   ]
  },
  {
   "cell_type": "code",
   "execution_count": null,
   "metadata": {},
   "outputs": [],
   "source": []
  }
 ],
 "metadata": {
  "kernelspec": {
   "display_name": "Python 3",
   "language": "python",
   "name": "python3"
  },
  "language_info": {
   "codemirror_mode": {
    "name": "ipython",
    "version": 3
   },
   "file_extension": ".py",
   "mimetype": "text/x-python",
   "name": "python",
   "nbconvert_exporter": "python",
   "pygments_lexer": "ipython3",
   "version": "3.6.4"
  }
 },
 "nbformat": 4,
 "nbformat_minor": 2
}
