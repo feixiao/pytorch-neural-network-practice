{
 "cells": [
  {
   "cell_type": "code",
   "execution_count": 8,
   "metadata": {},
   "outputs": [
    {
     "name": "stdout",
     "output_type": "stream",
     "text": [
      "torch.Size([1, 1])\n"
     ]
    }
   ],
   "source": [
    "import torch \n",
    "import torch.nn as nn\n",
    "\n",
    "x = torch.Tensor([[1, 2, 3]])\n",
    "\n",
    "# 定义两个全连接层和两个激活层\n",
    "lin_1 = nn.Linear(3, 3)\n",
    "relu_1 = nn.ReLU()\n",
    "lin_2 = nn.Linear(3, 1)\n",
    "relu_2 = nn.ReLU()\n",
    "\n",
    "# 计算x经过上面定义的4层后的输出\n",
    "out_1 = relu_1(lin_1(x))\n",
    "out_2 = relu_2(lin_2(out_1))\n",
    "print(out_2.size())\n",
    "# 输出结果\n",
    "# torch.Size([1, 1])"
   ]
  },
  {
   "cell_type": "code",
   "execution_count": 10,
   "metadata": {},
   "outputs": [
    {
     "name": "stdout",
     "output_type": "stream",
     "text": [
      "Sequential(\n",
      "  (0): Linear(in_features=3, out_features=3, bias=True)\n",
      "  (1): ReLU()\n",
      "  (2): Linear(in_features=3, out_features=1, bias=True)\n",
      "  (3): ReLU()\n",
      ")\n"
     ]
    }
   ],
   "source": [
    "# 按照顺序加入网络层\n",
    "seq = nn.Sequential(nn.Linear(3, 3),\n",
    "                    nn.ReLU(),\n",
    "                    nn.Linear(3, 1),\n",
    "                    nn.ReLU())\n",
    "print(seq)\n",
    "# 输出结果：\n",
    "# Sequential(\n",
    "#   (0): Linear(in_features=3, out_features=3, bias=True)\n",
    "#   (1): ReLU()\n",
    "#   (2): Linear(in_features=3, out_features=1, bias=True)\n",
    "#   (3): ReLU()\n",
    "# )"
   ]
  },
  {
   "cell_type": "code",
   "execution_count": 11,
   "metadata": {},
   "outputs": [
    {
     "name": "stdout",
     "output_type": "stream",
     "text": [
      "torch.Size([1, 1])\n"
     ]
    }
   ],
   "source": [
    "seq_out = seq(x)\n",
    "print(seq_out.size())\n",
    "# 输出结果\n",
    "# torch.Size([1, 1])"
   ]
  },
  {
   "cell_type": "code",
   "execution_count": 16,
   "metadata": {},
   "outputs": [
    {
     "name": "stdout",
     "output_type": "stream",
     "text": [
      "Sequential(\n",
      "  (lin_1): Linear(in_features=3, out_features=3, bias=True)\n",
      "  (relu_1): ReLU()\n",
      "  (lin_2): Linear(in_features=3, out_features=1, bias=True)\n",
      "  (relu_2): ReLU()\n",
      ")\n"
     ]
    }
   ],
   "source": [
    "from collections import OrderedDict\n",
    "seq_od = nn.Sequential(OrderedDict([\n",
    "    (\"lin_1\", nn.Linear(3, 3)),\n",
    "    (\"relu_1\", nn.ReLU()),\n",
    "    (\"lin_2\", nn.Linear(3, 1)),\n",
    "    (\"relu_2\", nn.ReLU())]))\n",
    "print(seq_od)\n",
    "# 输出结果：\n",
    "# Sequential(\n",
    "#   (lin_1): Linear(in_features=3, out_features=3, bias=True)\n",
    "#   (relu_1): ReLU()\n",
    "#   (lin_2): Linear(in_features=3, out_features=1, bias=True)\n",
    "#   (relu_2): ReLU()\n",
    "# )"
   ]
  },
  {
   "cell_type": "code",
   "execution_count": 17,
   "metadata": {},
   "outputs": [
    {
     "name": "stdout",
     "output_type": "stream",
     "text": [
      "torch.Size([1, 1])\n"
     ]
    }
   ],
   "source": [
    "seq_od_out = seq_od(x)\n",
    "print(seq_od_out.size())\n",
    "# 输出结果\n",
    "# torch.Size([1, 1])"
   ]
  },
  {
   "cell_type": "code",
   "execution_count": 19,
   "metadata": {},
   "outputs": [
    {
     "name": "stdout",
     "output_type": "stream",
     "text": [
      "Linear(in_features=3, out_features=1, bias=True)\n",
      "Linear(in_features=3, out_features=1, bias=True)\n"
     ]
    }
   ],
   "source": [
    "# 索引Sequential\n",
    "print(seq[2])\n",
    "print(seq_od[2])\n",
    "# 输出结果\n",
    "# Linear(in_features=3, out_features=1, bias=True)\n",
    "# Linear(in_features=3, out_features=1, bias=True)"
   ]
  },
  {
   "cell_type": "code",
   "execution_count": 23,
   "metadata": {},
   "outputs": [
    {
     "name": "stdout",
     "output_type": "stream",
     "text": [
      "Sequential(\n",
      "  (0): Linear(in_features=3, out_features=3, bias=True)\n",
      "  (1): LeakyReLU(negative_slope=0.01)\n",
      "  (2): Linear(in_features=3, out_features=1, bias=True)\n",
      "  (3): LeakyReLU(negative_slope=0.01)\n",
      ")\n"
     ]
    }
   ],
   "source": [
    "# Sequential替换\n",
    "seq[1] = nn.LeakyReLU()\n",
    "seq[3] = nn.LeakyReLU()\n",
    "print(seq)\n",
    "# 输出结果：\n",
    "# Sequential(\n",
    "#   (0): Linear(in_features=3, out_features=3, bias=True)\n",
    "#   (1): LeakyReLU(negative_slope=0.01)\n",
    "#   (2): Linear(in_features=3, out_features=1, bias=True)\n",
    "#   (3): LeakyReLU(negative_slope=0.01)\n",
    "# )"
   ]
  },
  {
   "cell_type": "code",
   "execution_count": null,
   "metadata": {},
   "outputs": [],
   "source": []
  }
 ],
 "metadata": {
  "kernelspec": {
   "display_name": "Python 3",
   "language": "python",
   "name": "python3"
  },
  "language_info": {
   "codemirror_mode": {
    "name": "ipython",
    "version": 3
   },
   "file_extension": ".py",
   "mimetype": "text/x-python",
   "name": "python",
   "nbconvert_exporter": "python",
   "pygments_lexer": "ipython3",
   "version": "3.6.4"
  }
 },
 "nbformat": 4,
 "nbformat_minor": 2
}
