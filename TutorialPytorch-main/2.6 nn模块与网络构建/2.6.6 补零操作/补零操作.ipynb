{
 "cells": [
  {
   "cell_type": "code",
   "execution_count": 10,
   "metadata": {},
   "outputs": [
    {
     "name": "stdout",
     "output_type": "stream",
     "text": [
      "tensor([[[[0., 0., 0., 0.],\n",
      "          [0., 0., 0., 0.],\n",
      "          [0., 0., 0., 0.],\n",
      "          [0., 1., 0., 0.],\n",
      "          [0., 0., 0., 0.],\n",
      "          [0., 0., 0., 0.],\n",
      "          [0., 0., 0., 0.],\n",
      "          [0., 0., 0., 0.]]]])\n"
     ]
    }
   ],
   "source": [
    "import torch\n",
    "import torch.nn as nn\n",
    "\n",
    "x = torch.Tensor([[[[1]]]])\n",
    "# 定义四个方向的补零数量\n",
    "zero_pad = nn.ZeroPad2d(padding=(1, 2, 3, 4))\n",
    "y = zero_pad(x)\n",
    "print(y)\n",
    "\n",
    "# 输出结果：\n",
    "# tensor([[[[0., 0., 0., 0.],\n",
    "#           [0., 0., 0., 0.],\n",
    "#           [0., 0., 0., 0.],\n",
    "#           [0., 1., 0., 0.],\n",
    "#           [0., 0., 0., 0.],\n",
    "#           [0., 0., 0., 0.],\n",
    "#           [0., 0., 0., 0.],\n",
    "#           [0., 0., 0., 0.]]]])"
   ]
  },
  {
   "cell_type": "code",
   "execution_count": 12,
   "metadata": {},
   "outputs": [
    {
     "name": "stdout",
     "output_type": "stream",
     "text": [
      "tensor([[[[19., 19., 19., 19.],\n",
      "          [19., 19., 19., 19.],\n",
      "          [19., 19., 19., 19.],\n",
      "          [19.,  1., 19., 19.],\n",
      "          [19., 19., 19., 19.],\n",
      "          [19., 19., 19., 19.],\n",
      "          [19., 19., 19., 19.],\n",
      "          [19., 19., 19., 19.]]]])\n"
     ]
    }
   ],
   "source": [
    "# 设定边界填充为常量值19\n",
    "const_pad = nn.ConstantPad2d(padding=(1, 2, 3, 4), value=19)\n",
    "y = const_pad(x)\n",
    "print(y)\n",
    "\n",
    "# 输出结果：\n",
    "# tensor([[[[19., 19., 19., 19.],\n",
    "#           [19., 19., 19., 19.],\n",
    "#           [19., 19., 19., 19.],\n",
    "#           [19.,  1., 19., 19.],\n",
    "#           [19., 19., 19., 19.],\n",
    "#           [19., 19., 19., 19.],\n",
    "#           [19., 19., 19., 19.],\n",
    "#           [19., 19., 19., 19.]]]])"
   ]
  },
  {
   "cell_type": "code",
   "execution_count": null,
   "metadata": {
    "scrolled": false
   },
   "outputs": [],
   "source": []
  },
  {
   "cell_type": "code",
   "execution_count": null,
   "metadata": {},
   "outputs": [],
   "source": []
  }
 ],
 "metadata": {
  "kernelspec": {
   "display_name": "Python 3",
   "language": "python",
   "name": "python3"
  },
  "language_info": {
   "codemirror_mode": {
    "name": "ipython",
    "version": 3
   },
   "file_extension": ".py",
   "mimetype": "text/x-python",
   "name": "python",
   "nbconvert_exporter": "python",
   "pygments_lexer": "ipython3",
   "version": "3.6.4"
  }
 },
 "nbformat": 4,
 "nbformat_minor": 2
}
