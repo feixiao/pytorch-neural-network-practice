{
 "cells": [
  {
   "cell_type": "code",
   "execution_count": 20,
   "metadata": {},
   "outputs": [],
   "source": [
    "import torch\n",
    "import torch.nn as nn\n",
    "import torch.onnx\n",
    "\n",
    "class Block(nn.Module):\n",
    "    def __init__(self):\n",
    "        super().__init__()\n",
    "        self.net = nn.Sequential(nn.Conv2d(3, 64, 3, 1, 1),\n",
    "                                 nn.BatchNorm2d(64),\n",
    "                                 nn.ReLU())\n",
    "    def forward(self, x):\n",
    "        return self.net(x)\n",
    "block = Block()\n",
    "input_tensor = torch.randn(size=(1,3, 256, 256))\n",
    "torch.onnx.export(model=block, args=input_tensor, f=\"block.onnx\", \n",
    "                  input_names=[\"input\"], output_names=[\"output\"])"
   ]
  },
  {
   "cell_type": "code",
   "execution_count": 16,
   "metadata": {
    "scrolled": false
   },
   "outputs": [],
   "source": [
    "# print(help(torch.onnx.export))\n",
    "# torch.onnx.export(model, args, f, export_params=True, \n",
    "#                   verbose=False, training=False, \n",
    "#                   input_names=None, output_names=None)"
   ]
  },
  {
   "cell_type": "code",
   "execution_count": null,
   "metadata": {},
   "outputs": [],
   "source": []
  }
 ],
 "metadata": {
  "kernelspec": {
   "display_name": "Python 3",
   "language": "python",
   "name": "python3"
  },
  "language_info": {
   "codemirror_mode": {
    "name": "ipython",
    "version": 3
   },
   "file_extension": ".py",
   "mimetype": "text/x-python",
   "name": "python",
   "nbconvert_exporter": "python",
   "pygments_lexer": "ipython3",
   "version": "3.6.4"
  }
 },
 "nbformat": 4,
 "nbformat_minor": 2
}
