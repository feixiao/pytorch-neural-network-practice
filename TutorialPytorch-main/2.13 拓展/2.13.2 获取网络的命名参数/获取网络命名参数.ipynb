{
 "cells": [
  {
   "cell_type": "code",
   "execution_count": 9,
   "metadata": {},
   "outputs": [
    {
     "name": "stdout",
     "output_type": "stream",
     "text": [
      "('conv', Conv2d(1, 1, kernel_size=(1, 1), stride=(1, 1)))\n",
      "('mini', miniConv(\n",
      "  (conv): Conv2d(1, 1, kernel_size=(1, 1), stride=(1, 1))\n",
      "))\n"
     ]
    }
   ],
   "source": [
    "import torch\n",
    "import torch.nn as nn\n",
    "\n",
    "class miniConv(nn.Module):\n",
    "    def __init__(self):\n",
    "        super().__init__()\n",
    "        self.conv = nn.Conv2d(1, 1, 1)\n",
    "\n",
    "class Net(nn.Module):\n",
    "    def __init__(self):\n",
    "        super().__init__()\n",
    "        self.conv = nn.Conv2d(1, 1, 1)\n",
    "        self.mini = miniConv()\n",
    "      \n",
    "    def forward(self):\n",
    "        return 0"
   ]
  },
  {
   "cell_type": "code",
   "execution_count": 14,
   "metadata": {
    "scrolled": false
   },
   "outputs": [
    {
     "name": "stdout",
     "output_type": "stream",
     "text": [
      "('conv.weight', Parameter containing:\n",
      "tensor([[[[-0.8251]]]], requires_grad=True))\n",
      "('conv.bias', Parameter containing:\n",
      "tensor([0.7367], requires_grad=True))\n",
      "('mini.conv.weight', Parameter containing:\n",
      "tensor([[[[-0.1005]]]], requires_grad=True))\n",
      "('mini.conv.bias', Parameter containing:\n",
      "tensor([0.7705], requires_grad=True))\n"
     ]
    }
   ],
   "source": [
    "net = Net()\n",
    "for param in net.named_parameters():\n",
    "    print(param)\n",
    "# 输出结果：\n",
    "# ('conv.weight', Parameter containing:\n",
    "# tensor([[[[-0.8251]]]], requires_grad=True))\n",
    "# ('conv.bias', Parameter containing:\n",
    "# tensor([0.7367], requires_grad=True))\n",
    "# ('mini.conv.weight', Parameter containing:\n",
    "# tensor([[[[-0.1005]]]], requires_grad=True))\n",
    "# ('mini.conv.bias', Parameter containing:\n",
    "# tensor([0.7705], requires_grad=True))"
   ]
  },
  {
   "cell_type": "code",
   "execution_count": 15,
   "metadata": {},
   "outputs": [
    {
     "name": "stdout",
     "output_type": "stream",
     "text": [
      "('conv', Conv2d(1, 1, kernel_size=(1, 1), stride=(1, 1)))\n",
      "('mini', miniConv(\n",
      "  (conv): Conv2d(1, 1, kernel_size=(1, 1), stride=(1, 1))\n",
      "))\n"
     ]
    }
   ],
   "source": [
    "for child in net.named_children():\n",
    "    print(child)\n",
    "# 输出结果：\n",
    "# ('conv', Conv2d(1, 1, kernel_size=(1, 1), stride=(1, 1)))\n",
    "# ('mini', miniConv(\n",
    "#   (conv): Conv2d(1, 1, kernel_size=(1, 1), stride=(1, 1))\n",
    "# ))"
   ]
  },
  {
   "cell_type": "code",
   "execution_count": 16,
   "metadata": {},
   "outputs": [
    {
     "name": "stdout",
     "output_type": "stream",
     "text": [
      "('', Net(\n",
      "  (conv): Conv2d(1, 1, kernel_size=(1, 1), stride=(1, 1))\n",
      "  (mini): miniConv(\n",
      "    (conv): Conv2d(1, 1, kernel_size=(1, 1), stride=(1, 1))\n",
      "  )\n",
      "))\n",
      "('conv', Conv2d(1, 1, kernel_size=(1, 1), stride=(1, 1)))\n",
      "('mini', miniConv(\n",
      "  (conv): Conv2d(1, 1, kernel_size=(1, 1), stride=(1, 1))\n",
      "))\n",
      "('mini.conv', Conv2d(1, 1, kernel_size=(1, 1), stride=(1, 1)))\n"
     ]
    }
   ],
   "source": [
    "for module in net.named_modules():\n",
    "    print(module)\n",
    "# 输出结果：\n",
    "# ('', Net(\n",
    "#   (conv): Conv2d(1, 1, kernel_size=(1, 1), stride=(1, 1))\n",
    "#   (mini): miniConv(\n",
    "#     (conv): Conv2d(1, 1, kernel_size=(1, 1), stride=(1, 1))\n",
    "#   )\n",
    "# ))\n",
    "# ('conv', Conv2d(1, 1, kernel_size=(1, 1), stride=(1, 1)))\n",
    "# ('mini', miniConv(\n",
    "#   (conv): Conv2d(1, 1, kernel_size=(1, 1), stride=(1, 1))\n",
    "# ))\n",
    "# ('mini.conv', Conv2d(1, 1, kernel_size=(1, 1), stride=(1, 1)))"
   ]
  },
  {
   "cell_type": "code",
   "execution_count": null,
   "metadata": {},
   "outputs": [],
   "source": []
  }
 ],
 "metadata": {
  "kernelspec": {
   "display_name": "Python 3",
   "language": "python",
   "name": "python3"
  },
  "language_info": {
   "codemirror_mode": {
    "name": "ipython",
    "version": 3
   },
   "file_extension": ".py",
   "mimetype": "text/x-python",
   "name": "python",
   "nbconvert_exporter": "python",
   "pygments_lexer": "ipython3",
   "version": "3.6.4"
  }
 },
 "nbformat": 4,
 "nbformat_minor": 2
}
