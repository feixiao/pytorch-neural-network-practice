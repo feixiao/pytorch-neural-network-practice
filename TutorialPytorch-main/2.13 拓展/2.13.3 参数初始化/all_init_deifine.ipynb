{
 "cells": [
  {
   "cell_type": "code",
   "execution_count": null,
   "metadata": {},
   "outputs": [],
   "source": [
    "torch.nn.init.uniform_(tensor, a=0.0, b=1.0)\n",
    "torch.nn.init.normal_(tensor, mean=0.0, std=1.0)\n",
    "torch.nn.init.constant_(tensor, val)\n",
    "torch.nn.init.ones_(tensor)\n",
    "torch.nn.init.zeros_(tensor)"
   ]
  },
  {
   "cell_type": "code",
   "execution_count": 6,
   "metadata": {},
   "outputs": [
    {
     "name": "stdout",
     "output_type": "stream",
     "text": [
      "Help on function zeros_ in module torch.nn.init:\n",
      "\n",
      "zeros_(tensor)\n",
      "    Fills the input Tensor with the scalar value `0`.\n",
      "    \n",
      "    Args:\n",
      "        tensor: an n-dimensional `torch.Tensor`\n",
      "    \n",
      "    Examples:\n",
      "        >>> w = torch.empty(3, 5)\n",
      "        >>> nn.init.zeros_(w)\n",
      "\n",
      "None\n"
     ]
    }
   ],
   "source": [
    "import torch\n",
    "print(help(torch.nn.init.zeros_))"
   ]
  },
  {
   "cell_type": "code",
   "execution_count": null,
   "metadata": {},
   "outputs": [],
   "source": []
  }
 ],
 "metadata": {
  "kernelspec": {
   "display_name": "Python 3",
   "language": "python",
   "name": "python3"
  },
  "language_info": {
   "codemirror_mode": {
    "name": "ipython",
    "version": 3
   },
   "file_extension": ".py",
   "mimetype": "text/x-python",
   "name": "python",
   "nbconvert_exporter": "python",
   "pygments_lexer": "ipython3",
   "version": "3.6.4"
  }
 },
 "nbformat": 4,
 "nbformat_minor": 2
}
