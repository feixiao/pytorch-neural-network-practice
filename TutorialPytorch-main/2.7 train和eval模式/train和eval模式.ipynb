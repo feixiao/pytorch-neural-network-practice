{
 "cells": [
  {
   "cell_type": "code",
   "execution_count": 1,
   "metadata": {},
   "outputs": [
    {
     "name": "stdout",
     "output_type": "stream",
     "text": [
      "tensor([[[[ 1.4479,  0.4114],\n",
      "          [-0.9837, -0.8756]]]], grad_fn=<NativeBatchNormBackward>)\n",
      "tensor([[[[ 1.4479,  0.4114],\n",
      "          [-0.9837, -0.8756]]]], grad_fn=<NativeBatchNormBackward>)\n",
      "tensor([[[[ 1.4479,  0.4114],\n",
      "          [-0.9837, -0.8756]]]], grad_fn=<NativeBatchNormBackward>)\n",
      "tensor([[[[ 1.4479,  0.4114],\n",
      "          [-0.9837, -0.8756]]]], grad_fn=<NativeBatchNormBackward>)\n",
      "tensor([[[[ 1.4479,  0.4114],\n",
      "          [-0.9837, -0.8756]]]], grad_fn=<NativeBatchNormBackward>)\n",
      "tensor([[[[ 1.4479,  0.4114],\n",
      "          [-0.9837, -0.8756]]]], grad_fn=<NativeBatchNormBackward>)\n",
      "tensor([[[[ 1.4479,  0.4114],\n",
      "          [-0.9837, -0.8756]]]], grad_fn=<NativeBatchNormBackward>)\n",
      "tensor([[[[ 1.4479,  0.4114],\n",
      "          [-0.9837, -0.8756]]]], grad_fn=<NativeBatchNormBackward>)\n",
      "tensor([[[[ 1.4479,  0.4114],\n",
      "          [-0.9837, -0.8756]]]], grad_fn=<NativeBatchNormBackward>)\n",
      "tensor([[[[ 1.4479,  0.4114],\n",
      "          [-0.9837, -0.8756]]]], grad_fn=<NativeBatchNormBackward>)\n"
     ]
    }
   ],
   "source": [
    "import torch\n",
    "import torch.nn as nn\n",
    "\n",
    "class Net(nn.Module):\n",
    "    def __init__(self, nc):\n",
    "        super().__init__()\n",
    "        self.bn = nn.BatchNorm2d(nc, affine=True)\n",
    "    \n",
    "    def forward(self, x):\n",
    "        return self.bn(x)\n",
    "\n",
    "nc = 1\n",
    "total_iterations = 2\n",
    "net = Net(nc)\n",
    "net.train()\n",
    "x = torch.randn(1, nc, 2, 2)\n",
    "for i in range(total_iterations):\n",
    "    \n",
    "    pred = net(x)\n",
    "#     print(net.bn.weight, net.bn.bias)\n",
    "#     for param in net.bn.named_parameters():\n",
    "#         print(param)\n",
    "    print(pred)"
   ]
  },
  {
   "cell_type": "code",
   "execution_count": 2,
   "metadata": {},
   "outputs": [
    {
     "name": "stdout",
     "output_type": "stream",
     "text": [
      "tensor([[[[ 1.4227,  0.4796],\n",
      "          [-0.7899, -0.6915]]]], grad_fn=<NativeBatchNormBackward>)\n",
      "tensor([[[[ 1.4227,  0.4796],\n",
      "          [-0.7899, -0.6915]]]], grad_fn=<NativeBatchNormBackward>)\n",
      "tensor([[[[ 1.4227,  0.4796],\n",
      "          [-0.7899, -0.6915]]]], grad_fn=<NativeBatchNormBackward>)\n",
      "tensor([[[[ 1.4227,  0.4796],\n",
      "          [-0.7899, -0.6915]]]], grad_fn=<NativeBatchNormBackward>)\n",
      "tensor([[[[ 1.4227,  0.4796],\n",
      "          [-0.7899, -0.6915]]]], grad_fn=<NativeBatchNormBackward>)\n",
      "tensor([[[[ 1.4227,  0.4796],\n",
      "          [-0.7899, -0.6915]]]], grad_fn=<NativeBatchNormBackward>)\n",
      "tensor([[[[ 1.4227,  0.4796],\n",
      "          [-0.7899, -0.6915]]]], grad_fn=<NativeBatchNormBackward>)\n",
      "tensor([[[[ 1.4227,  0.4796],\n",
      "          [-0.7899, -0.6915]]]], grad_fn=<NativeBatchNormBackward>)\n",
      "tensor([[[[ 1.4227,  0.4796],\n",
      "          [-0.7899, -0.6915]]]], grad_fn=<NativeBatchNormBackward>)\n",
      "tensor([[[[ 1.4227,  0.4796],\n",
      "          [-0.7899, -0.6915]]]], grad_fn=<NativeBatchNormBackward>)\n"
     ]
    }
   ],
   "source": [
    "net.eval()\n",
    "# x = torch.randn(1, nc, 2, 2)\n",
    "for i in range(total_iterations):\n",
    "    pred = net(x)\n",
    "#     print(net.bn.weight, net.bn.bias)\n",
    "#     for param in net.bn.named_parameters():\n",
    "#         print(param)\n",
    "    print(pred)"
   ]
  },
  {
   "cell_type": "code",
   "execution_count": 5,
   "metadata": {},
   "outputs": [
    {
     "name": "stdout",
     "output_type": "stream",
     "text": [
      "['__call__', '__class__', '__constants__', '__delattr__', '__dict__', '__dir__', '__doc__', '__eq__', '__format__', '__ge__', '__getattr__', '__getattribute__', '__gt__', '__hash__', '__init__', '__init_subclass__', '__le__', '__lt__', '__module__', '__ne__', '__new__', '__reduce__', '__reduce_ex__', '__repr__', '__setattr__', '__setstate__', '__sizeof__', '__str__', '__subclasshook__', '__weakref__', '_apply', '_backward_hooks', '_buffers', '_check_input_dim', '_forward_hooks', '_forward_pre_hooks', '_get_name', '_load_from_state_dict', '_load_state_dict_pre_hooks', '_modules', '_named_members', '_parameters', '_register_load_state_dict_pre_hook', '_register_state_dict_hook', '_replicate_for_data_parallel', '_save_to_state_dict', '_slow_forward', '_state_dict_hooks', '_version', 'add_module', 'affine', 'apply', 'bfloat16', 'bias', 'buffers', 'children', 'cpu', 'cuda', 'double', 'dump_patches', 'eps', 'eval', 'extra_repr', 'float', 'forward', 'half', 'load_state_dict', 'modules', 'momentum', 'named_buffers', 'named_children', 'named_modules', 'named_parameters', 'num_batches_tracked', 'num_features', 'parameters', 'register_backward_hook', 'register_buffer', 'register_forward_hook', 'register_forward_pre_hook', 'register_parameter', 'requires_grad_', 'reset_parameters', 'reset_running_stats', 'running_mean', 'running_var', 'share_memory', 'state_dict', 'to', 'track_running_stats', 'train', 'training', 'type', 'weight', 'zero_grad']\n",
      "tensor([0., 0., 0.])\n",
      "tensor([1., 1., 1.])\n"
     ]
    }
   ],
   "source": [
    "bn = nn.BatchNorm2d(3)\n",
    "print(dir(bn))\n",
    "print(bn.running_mean)\n",
    "print(bn.running_var)"
   ]
  },
  {
   "cell_type": "code",
   "execution_count": null,
   "metadata": {},
   "outputs": [],
   "source": []
  },
  {
   "cell_type": "code",
   "execution_count": null,
   "metadata": {},
   "outputs": [],
   "source": [
    "import torch\n",
    "import torch.nn as nn\n",
    "\n",
    "# 定义一个只包含BN层的网络\n",
    "class Net(nn.Module):\n",
    "    def __init__(self, nc):\n",
    "        super().__init__()\n",
    "        # 定义BN层，指定BN的输入通道数\n",
    "        self.bn = nn.BatchNorm2d(nc, affine=True)\n",
    "    \n",
    "    def forward(self, x):\n",
    "        return self.bn(x)\n",
    "\n",
    "# 通道数设定为2\n",
    "nc = 2\n",
    "net = Net(nc)\n",
    "\n",
    "# 将网络设定为训练模式\n",
    "net.train()\n",
    "for i in range(5):\n",
    "    x = torch.randn(1, nc, 2, 2)\n",
    "    _ = net(x)\n",
    "    # 打印网络bn层计算的均值和方差信息\n",
    "    print(\"mean: \", net.bn.running_mean.data)\n",
    "    print(\"var: \", net.bn.running_var.data)\n",
    "\n",
    "# 输出结果:\n",
    "# mean:  tensor([ 0.0888, -0.0052])\n",
    "# var:  tensor([1.0771, 0.9486])\n",
    "# mean:  tensor([ 0.0584, -0.0013])\n",
    "# var:  tensor([1.1610, 0.9938])\n",
    "# mean:  tensor([-0.0395, -0.0017])\n",
    "# var:  tensor([1.1344, 0.9531])\n",
    "# mean:  tensor([-0.0130,  0.0616])\n",
    "# var:  tensor([1.1179, 0.9074])\n",
    "# mean:  tensor([ 0.0168, -0.0400])\n",
    "# var:  tensor([1.0957, 0.8489])\n",
    "\n",
    "# 将网络设定为评估模式\n",
    "net.eval()\n",
    "for i in range(5):\n",
    "    x = torch.randn(1, nc, 2, 2)\n",
    "    _ = net(x)\n",
    "    print(\"mean: \", net.bn.running_mean.data)\n",
    "    print(\"var: \", net.bn.running_var.data)\n",
    "# 输出结果:\n",
    "# mean:  tensor([ 0.0168, -0.0400])\n",
    "# var:  tensor([1.0957, 0.8489])\n",
    "# mean:  tensor([ 0.0168, -0.0400])\n",
    "# var:  tensor([1.0957, 0.8489])\n",
    "# mean:  tensor([ 0.0168, -0.0400])\n",
    "# var:  tensor([1.0957, 0.8489])\n",
    "# mean:  tensor([ 0.0168, -0.0400])\n",
    "# var:  tensor([1.0957, 0.8489])\n",
    "# mean:  tensor([ 0.0168, -0.0400])\n",
    "# var:  tensor([1.0957, 0.8489])"
   ]
  },
  {
   "cell_type": "code",
   "execution_count": null,
   "metadata": {},
   "outputs": [],
   "source": [
    "net.train()\n",
    "for i in range(1000000):\n",
    "    x = torch.randn(1, nc, 2, 2)\n",
    "    _ = net(x)\n",
    "    if i % 100000 == 0:\n",
    "        print(net.bn.running_mean.data)\n",
    "        print(net.bn.running_var.data)"
   ]
  },
  {
   "cell_type": "code",
   "execution_count": null,
   "metadata": {},
   "outputs": [],
   "source": [
    "net = nn.Linear(1, 1)\n",
    "net.train()\n",
    "net.eval()"
   ]
  }
 ],
 "metadata": {
  "kernelspec": {
   "display_name": "Python 3",
   "language": "python",
   "name": "python3"
  },
  "language_info": {
   "codemirror_mode": {
    "name": "ipython",
    "version": 3
   },
   "file_extension": ".py",
   "mimetype": "text/x-python",
   "name": "python",
   "nbconvert_exporter": "python",
   "pygments_lexer": "ipython3",
   "version": "3.6.4"
  }
 },
 "nbformat": 4,
 "nbformat_minor": 2
}
