{
 "cells": [
  {
   "cell_type": "code",
   "execution_count": 1,
   "metadata": {},
   "outputs": [
    {
     "name": "stdout",
     "output_type": "stream",
     "text": [
      "tensor([2, 3])\n",
      "tensor([1, 2, 3, 4, 5])\n"
     ]
    }
   ],
   "source": [
    "# 下面代码讲述的是Tensor的操作\n",
    "import torch\n",
    "x = torch.tensor([1, 2, 3, 4, 5])\n",
    "print(x[1:3])\n",
    "# tensor([2, 3])\n",
    "\n",
    "print(x[:])"
   ]
  },
  {
   "cell_type": "code",
   "execution_count": 2,
   "metadata": {},
   "outputs": [
    {
     "name": "stdout",
     "output_type": "stream",
     "text": [
      "2640887649728\n",
      "2640887649024\n",
      "2640887645696\n",
      "2640887649024\n"
     ]
    }
   ],
   "source": [
    "import torch\n",
    "x = torch.tensor([1, 2])\n",
    "y = torch.tensor([1, 2])\n",
    "# 通过克隆y获得z\n",
    "z = y.clone()\n",
    "# 将y从计算图中分离\n",
    "q = y.detach()\n",
    "print(x.data_ptr())\n",
    "print(y.data_ptr())\n",
    "print(z.data_ptr())\n",
    "print(q.data_ptr())\n",
    "# 输出结果：\n",
    "# 1772260424512\n",
    "# 1772260423424\n",
    "# 1772260424384\n",
    "# 1772260423424"
   ]
  },
  {
   "cell_type": "code",
   "execution_count": null,
   "metadata": {},
   "outputs": [],
   "source": [
    "import torch\n",
    "x = torch.tensor([1, 2, 3, 4, 5])\n",
    "# 获取区间1到3内的数值\n",
    "print(x[1:3])\n",
    "# 获取全部数值\n",
    "print(x[:])\n",
    "# 获取最后一个数值\n",
    "print(x[-1])\n",
    "\n",
    "# 输出结果\n",
    "# tensor([2, 3])\n",
    "# tensor([1, 2, 3, 4, 5])\n",
    "# tensor(5)"
   ]
  },
  {
   "cell_type": "code",
   "execution_count": 3,
   "metadata": {},
   "outputs": [
    {
     "name": "stdout",
     "output_type": "stream",
     "text": [
      "tensor([1, 2, 3, 4, 5, 6])\n"
     ]
    }
   ],
   "source": [
    "x1 = torch.tensor([1, 2])\n",
    "x2 = torch.tensor([3, 4])\n",
    "x3 = torch.tensor([5, 6])\n",
    "\n",
    "x_cat = torch.cat(tensors=(x1, x2, x3), dim=0)\n",
    "print(x_cat)\n",
    "# 输出：tensor([1, 2, 3, 4, 5, 6])"
   ]
  },
  {
   "cell_type": "code",
   "execution_count": 4,
   "metadata": {},
   "outputs": [
    {
     "name": "stdout",
     "output_type": "stream",
     "text": [
      "tensor([[ 1,  4],\n",
      "        [ 9, 16]])\n",
      "tensor([[ 7, 10],\n",
      "        [15, 22]])\n"
     ]
    }
   ],
   "source": [
    "x1 = torch.tensor([[1, 2], [3, 4]])\n",
    "x2 = torch.tensor([[1, 2], [3, 4]])\n",
    "print(torch.mul(x1, x2))\n",
    "print(torch.mm(x1, x2))\n",
    "# tensor([[ 1,  4],\n",
    "#         [ 9, 16]])\n",
    "# tensor([[ 7, 10],\n",
    "#         [15, 22]])"
   ]
  },
  {
   "cell_type": "code",
   "execution_count": 5,
   "metadata": {},
   "outputs": [
    {
     "name": "stdout",
     "output_type": "stream",
     "text": [
      "tensor([[2, 4],\n",
      "        [6, 8]])\n",
      "tensor([[0, 0],\n",
      "        [0, 0]])\n",
      "tensor([[2, 4],\n",
      "        [6, 8]])\n",
      "tensor([[0, 0],\n",
      "        [0, 0]])\n"
     ]
    }
   ],
   "source": [
    "x1 = torch.tensor([[1, 2], [3, 4]])\n",
    "x2 = torch.tensor([[1, 2], [3, 4]])\n",
    "print(torch.add(x1, x2))\n",
    "print(torch.sub(x1, x2))\n",
    "# tensor([[2, 4],\n",
    "#         [6, 8]])\n",
    "# tensor([[0, 0],\n",
    "#         [0, 0]])\n",
    "\n",
    "print(x1.add_(x2))\n",
    "x1 = torch.tensor([[1, 2], [3, 4]])\n",
    "print(x1.sub_(x2))\n",
    "# tensor([[2, 4],\n",
    "#         [6, 8]])\n",
    "# tensor([[0, 0],\n",
    "#         [0, 0]])"
   ]
  },
  {
   "cell_type": "code",
   "execution_count": null,
   "metadata": {},
   "outputs": [],
   "source": []
  }
 ],
 "metadata": {
  "kernelspec": {
   "display_name": "Python 3",
   "language": "python",
   "name": "python3"
  },
  "language_info": {
   "codemirror_mode": {
    "name": "ipython",
    "version": 3
   },
   "file_extension": ".py",
   "mimetype": "text/x-python",
   "name": "python",
   "nbconvert_exporter": "python",
   "pygments_lexer": "ipython3",
   "version": "3.6.4"
  }
 },
 "nbformat": 4,
 "nbformat_minor": 2
}
