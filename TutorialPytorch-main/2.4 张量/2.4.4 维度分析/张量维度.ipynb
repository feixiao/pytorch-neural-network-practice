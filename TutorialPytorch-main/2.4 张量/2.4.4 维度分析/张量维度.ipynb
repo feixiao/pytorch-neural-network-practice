{
 "cells": [
  {
   "cell_type": "code",
   "execution_count": 1,
   "metadata": {},
   "outputs": [
    {
     "name": "stdout",
     "output_type": "stream",
     "text": [
      "ndimension:  4\n",
      "nelement:  48\n",
      "size:  torch.Size([1, 3, 4, 4])\n",
      "shape:  torch.Size([1, 3, 4, 4])\n"
     ]
    }
   ],
   "source": [
    "# 下面是Tensor维度信息\n",
    "import torch\n",
    "\n",
    "x = torch.randn(1, 3, 4, 4)\n",
    "print(\"ndimension: \", x.ndimension())\n",
    "print(\"nelement: \", x.nelement())\n",
    "print(\"size: \", x.size())\n",
    "print(\"shape: \", x.shape)\n",
    "# 输出结果\n",
    "# ndimension:  4\n",
    "# nelement:  48\n",
    "# size:  torch.Size([1, 3, 4, 4])\n",
    "# shape:  torch.Size([1, 3, 4, 4])"
   ]
  },
  {
   "cell_type": "code",
   "execution_count": 2,
   "metadata": {},
   "outputs": [
    {
     "name": "stdout",
     "output_type": "stream",
     "text": [
      "x_view:  torch.Size([1, 3, 16])\n",
      "x_view:  torch.Size([1, 48])\n"
     ]
    }
   ],
   "source": [
    "x_view = x.view(1, 3, 4 * 4)\n",
    "print(\"x_view: \", x_view.size())\n",
    "x_view = x.view(1, -1)\n",
    "print(\"x_view: \", x_view.size())\n",
    "# 输出结果\n",
    "# x_view:  torch.Size([1, 3, 16])\n",
    "# x_view:  torch.Size([1, 48])"
   ]
  },
  {
   "cell_type": "code",
   "execution_count": 3,
   "metadata": {},
   "outputs": [
    {
     "name": "stdout",
     "output_type": "stream",
     "text": [
      "tensor([[-0.8167,  1.1508,  1.3100],\n",
      "        [ 1.2471,  0.4875, -0.2938]])\n",
      "tensor([[-0.8167,  1.2471],\n",
      "        [ 1.1508,  0.4875],\n",
      "        [ 1.3100, -0.2938]])\n"
     ]
    }
   ],
   "source": [
    "x = torch.randn(2, 3)\n",
    "print(x)\n",
    "x_trans = x.transpose(1, 0)\n",
    "print(x_trans)\n",
    "# 输出结果：\n",
    "# tensor([[-0.6668,  0.2579, -0.9531],\n",
    "#         [-0.3596,  1.0273, -0.9150]])\n",
    "# tensor([[-0.6668, -0.3596],\n",
    "#         [ 0.2579,  1.0273],\n",
    "#         [-0.9531, -0.9150]])"
   ]
  },
  {
   "cell_type": "code",
   "execution_count": 4,
   "metadata": {},
   "outputs": [
    {
     "name": "stdout",
     "output_type": "stream",
     "text": [
      "torch.Size([3, 16, 16])\n",
      "torch.Size([1, 3, 16, 16])\n"
     ]
    }
   ],
   "source": [
    "# 增加和删除维度\n",
    "x = torch.randn(1, 3, 16, 16)\n",
    "x = x.squeeze(0)\n",
    "print(x.size())\n",
    "x = x.unsqueeze(0)\n",
    "print(x.size())\n",
    "# 输出结果\n",
    "# torch.Size([3, 16, 16])\n",
    "# torch.Size([1, 3, 16, 16])"
   ]
  },
  {
   "cell_type": "code",
   "execution_count": null,
   "metadata": {},
   "outputs": [],
   "source": []
  }
 ],
 "metadata": {
  "kernelspec": {
   "display_name": "Python 3",
   "language": "python",
   "name": "python3"
  },
  "language_info": {
   "codemirror_mode": {
    "name": "ipython",
    "version": 3
   },
   "file_extension": ".py",
   "mimetype": "text/x-python",
   "name": "python",
   "nbconvert_exporter": "python",
   "pygments_lexer": "ipython3",
   "version": "3.6.4"
  }
 },
 "nbformat": 4,
 "nbformat_minor": 2
}
