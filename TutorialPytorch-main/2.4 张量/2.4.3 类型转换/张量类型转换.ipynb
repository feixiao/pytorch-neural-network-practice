{
 "cells": [
  {
   "cell_type": "code",
   "execution_count": 1,
   "metadata": {},
   "outputs": [
    {
     "name": "stdout",
     "output_type": "stream",
     "text": [
      "x dtype:  torch.int32\n",
      "x dtype:  torch.float16\n",
      "x dtype:  torch.float32\n",
      "x dtype:  torch.float64\n"
     ]
    }
   ],
   "source": [
    "# 下面是类型转换\n",
    "import torch\n",
    "\n",
    "x = torch.tensor([1, 2, 3], dtype=torch.int32)\n",
    "print(\"x dtype: \", x.dtype)\n",
    "x = x.half()\n",
    "print(\"x dtype: \", x.dtype)\n",
    "x = x.float()\n",
    "print(\"x dtype: \", x.dtype)\n",
    "x = x.double()\n",
    "print(\"x dtype: \", x.dtype)\n",
    "\n",
    "# 输出结果：\n",
    "# x dtype:  torch.int32\n",
    "# x dtype:  torch.float16\n",
    "# x dtype:  torch.float32\n",
    "# x dtype:  torch.float64"
   ]
  },
  {
   "cell_type": "code",
   "execution_count": null,
   "metadata": {},
   "outputs": [],
   "source": []
  }
 ],
 "metadata": {
  "kernelspec": {
   "display_name": "Python 3",
   "language": "python",
   "name": "python3"
  },
  "language_info": {
   "codemirror_mode": {
    "name": "ipython",
    "version": 3
   },
   "file_extension": ".py",
   "mimetype": "text/x-python",
   "name": "python",
   "nbconvert_exporter": "python",
   "pygments_lexer": "ipython3",
   "version": "3.6.4"
  }
 },
 "nbformat": 4,
 "nbformat_minor": 2
}
