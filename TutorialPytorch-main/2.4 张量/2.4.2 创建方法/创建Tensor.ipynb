{
 "cells": [
  {
   "cell_type": "code",
   "execution_count": 1,
   "metadata": {},
   "outputs": [
    {
     "name": "stdout",
     "output_type": "stream",
     "text": [
      "tensor([1, 2, 3], dtype=torch.int32)\n"
     ]
    }
   ],
   "source": [
    "# 下面代码讲述的是Tensor的创建\n",
    "\n",
    "import torch\n",
    "\n",
    "x1 = [1, 2, 3]\n",
    "x1_tensor = torch.tensor(x1, dtype=torch.int32)\n",
    "print(x1_tensor)\n",
    "# tensor([1, 2, 3], dtype=torch.int32)\n",
    "\n"
   ]
  },
  {
   "cell_type": "code",
   "execution_count": 2,
   "metadata": {},
   "outputs": [
    {
     "name": "stdout",
     "output_type": "stream",
     "text": [
      "tensor([1, 2, 3], dtype=torch.int32)\n"
     ]
    }
   ],
   "source": [
    "import numpy as np\n",
    "\n",
    "x2_numpy = np.array([1, 2, 3])\n",
    "x2_tensor = torch.from_numpy(x2_numpy)\n",
    "print(x2_tensor)\n",
    "# 输出：tensor([1, 2, 3], dtype=torch.int32)"
   ]
  },
  {
   "cell_type": "code",
   "execution_count": 3,
   "metadata": {},
   "outputs": [
    {
     "name": "stdout",
     "output_type": "stream",
     "text": [
      "tensor([1, 1, 1], dtype=torch.int32)\n"
     ]
    }
   ],
   "source": [
    "x3_tensor = torch.ones_like(x2_tensor)\n",
    "print(x3_tensor)\n",
    "# 输出：tensor([1, 1, 1], dtype=torch.int32)"
   ]
  },
  {
   "cell_type": "code",
   "execution_count": 4,
   "metadata": {},
   "outputs": [
    {
     "name": "stdout",
     "output_type": "stream",
     "text": [
      "tensor([[ 0.5698, -0.3418, -0.1891]])\n",
      "tensor([[0., 0., 0.]])\n"
     ]
    }
   ],
   "source": [
    "size = [1, 3]\n",
    "x4_tensor = torch.randn(size)\n",
    "x5_tensor = torch.zeros(size)\n",
    "print(x4_tensor)\n",
    "print(x5_tensor)\n",
    "# tensor([[0.9306, 0.3131, 0.5407]])\n",
    "# tensor([[0., 0., 0.]])"
   ]
  },
  {
   "cell_type": "code",
   "execution_count": 5,
   "metadata": {},
   "outputs": [
    {
     "name": "stdout",
     "output_type": "stream",
     "text": [
      "Tensor size: torch.Size([1, 2])\n",
      "Tensor device: cpu\n",
      "Tensor data type: torch.float32\n"
     ]
    }
   ],
   "source": [
    "# # 下面代码分析的是Tensor的属性\n",
    "\n",
    "# x = torch.randn(size=(1, 2))\n",
    "# print(\"Tensor size: {}\".format(x.size()))\n",
    "# print(\"Tensor device: {}\".format(x.device))\n",
    "# print(\"Tensor data type: {}\".format(x.dtype))\n",
    "# # Tensor size: torch.Size([1, 2])\n",
    "# # Tensor data type: torch.float32\n",
    "# # Tensor device: cpu"
   ]
  },
  {
   "cell_type": "code",
   "execution_count": null,
   "metadata": {},
   "outputs": [],
   "source": []
  }
 ],
 "metadata": {
  "kernelspec": {
   "display_name": "Python 3",
   "language": "python",
   "name": "python3"
  },
  "language_info": {
   "codemirror_mode": {
    "name": "ipython",
    "version": 3
   },
   "file_extension": ".py",
   "mimetype": "text/x-python",
   "name": "python",
   "nbconvert_exporter": "python",
   "pygments_lexer": "ipython3",
   "version": "3.6.4"
  }
 },
 "nbformat": 4,
 "nbformat_minor": 2
}
