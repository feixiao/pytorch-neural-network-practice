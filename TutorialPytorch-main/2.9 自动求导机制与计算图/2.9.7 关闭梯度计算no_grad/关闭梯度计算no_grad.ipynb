{
 "cells": [
  {
   "cell_type": "code",
   "execution_count": 3,
   "metadata": {},
   "outputs": [
    {
     "name": "stdout",
     "output_type": "stream",
     "text": [
      "y resuires grad: True\n",
      "y is: tensor(3., grad_fn=<SumBackward0>)\n",
      "<SumBackward0 object at 0x000001B672108048>\n",
      "z resuires grad: False\n",
      "z is: tensor(3.)\n",
      "None\n"
     ]
    }
   ],
   "source": [
    "import torch\n",
    "\n",
    "x = torch.tensor([1, 2], dtype=torch.float32, requires_grad=True)\n",
    "y = torch.sum(x)\n",
    "print(\"y resuires grad:\", y.requires_grad)\n",
    "print(\"y is:\", y)\n",
    "# 输出结果\n",
    "# y resuires grad: True\n",
    "# y is: tensor(3., grad_fn=<SumBackward0>)\n",
    "\n",
    "with torch.no_grad():\n",
    "    z = torch.sum(x)\n",
    "    print(\"z resuires grad:\", z.requires_grad)\n",
    "    print(\"z is:\", z)\n",
    "    # 输出结果：\n",
    "    # z resuires grad: False\n",
    "    # z is: tensor(3.)"
   ]
  },
  {
   "cell_type": "code",
   "execution_count": null,
   "metadata": {},
   "outputs": [],
   "source": []
  }
 ],
 "metadata": {
  "kernelspec": {
   "display_name": "Python 3",
   "language": "python",
   "name": "python3"
  },
  "language_info": {
   "codemirror_mode": {
    "name": "ipython",
    "version": 3
   },
   "file_extension": ".py",
   "mimetype": "text/x-python",
   "name": "python",
   "nbconvert_exporter": "python",
   "pygments_lexer": "ipython3",
   "version": "3.6.4"
  }
 },
 "nbformat": 4,
 "nbformat_minor": 2
}
