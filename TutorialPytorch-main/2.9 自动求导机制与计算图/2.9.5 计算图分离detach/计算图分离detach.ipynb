{
 "cells": [
  {
   "cell_type": "code",
   "execution_count": 2,
   "metadata": {},
   "outputs": [
    {
     "name": "stdout",
     "output_type": "stream",
     "text": [
      "y is: tensor(6., grad_fn=<SumBackward0>)\n",
      "z is: tensor(6.)\n"
     ]
    }
   ],
   "source": [
    "# 下面是介绍计算图分离，detach\n",
    "\n",
    "import torch\n",
    "\n",
    "# 创建浮点类型的张量，并设置requires_grad为True\n",
    "x = torch.tensor(data=[1, 2, 3],\n",
    "                dtype=torch.float32,\n",
    "                device=torch.device(\"cpu\"),\n",
    "                requires_grad=True)\n",
    "y = torch.sum(x)\n",
    "print(\"y is:\", y)\n",
    "\n",
    "# 此时z从计算图中分离出来\n",
    "z = torch.sum(x).detach()\n",
    "print(\"z is:\", z)\n",
    "\n",
    "# 输出结果\n",
    "# y is: tensor(6., grad_fn=<SumBackward0>)\n",
    "# z is: tensor(6.)"
   ]
  },
  {
   "cell_type": "code",
   "execution_count": null,
   "metadata": {},
   "outputs": [],
   "source": []
  },
  {
   "cell_type": "code",
   "execution_count": null,
   "metadata": {},
   "outputs": [],
   "source": []
  },
  {
   "cell_type": "code",
   "execution_count": null,
   "metadata": {},
   "outputs": [],
   "source": []
  }
 ],
 "metadata": {
  "kernelspec": {
   "display_name": "Python 3",
   "language": "python",
   "name": "python3"
  },
  "language_info": {
   "codemirror_mode": {
    "name": "ipython",
    "version": 3
   },
   "file_extension": ".py",
   "mimetype": "text/x-python",
   "name": "python",
   "nbconvert_exporter": "python",
   "pygments_lexer": "ipython3",
   "version": "3.6.4"
  }
 },
 "nbformat": 4,
 "nbformat_minor": 2
}
