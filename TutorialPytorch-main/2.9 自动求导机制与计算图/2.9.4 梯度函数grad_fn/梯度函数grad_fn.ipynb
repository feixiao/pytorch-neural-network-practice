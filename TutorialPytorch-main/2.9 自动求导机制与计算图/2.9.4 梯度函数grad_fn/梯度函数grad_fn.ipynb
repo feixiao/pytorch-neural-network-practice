{
 "cells": [
  {
   "cell_type": "code",
   "execution_count": 19,
   "metadata": {},
   "outputs": [
    {
     "name": "stdout",
     "output_type": "stream",
     "text": [
      "None\n",
      "<SumBackward0 object at 0x0000022A3050B5C0>\n",
      "<MulBackward0 object at 0x0000022A3050B5F8>\n"
     ]
    }
   ],
   "source": [
    "import torch\n",
    "\n",
    "x = torch.tensor([1, 2], dtype=torch.float32, requires_grad=True)\n",
    "y = torch.sum(x)\n",
    "z = 2 * y\n",
    "\n",
    "# 叶子节点的grad_fn是空的\n",
    "print(x.grad_fn)\n",
    "print(y.grad_fn)\n",
    "print(z.grad_fn)\n",
    "\n",
    "# 输出结果：\n",
    "# None\n",
    "# <SumBackward0 object at 0x0000022A3050B5C0>\n",
    "# <MulBackward0 object at 0x0000022A3050B5F8>"
   ]
  },
  {
   "cell_type": "code",
   "execution_count": 20,
   "metadata": {},
   "outputs": [
    {
     "name": "stdout",
     "output_type": "stream",
     "text": [
      "((<AccumulateGrad object at 0x0000022A30508908>, 0),)\n",
      "((<SumBackward0 object at 0x0000022A30508C50>, 0), (None, 0))\n"
     ]
    }
   ],
   "source": [
    "print(y.grad_fn.next_functions)\n",
    "print(z.grad_fn.next_functions)\n",
    "# 输出结果：\n",
    "# ((<AccumulateGrad object at 0x0000022A30508908>, 0),)\n",
    "# ((<SumBackward0 object at 0x0000022A30508C50>, 0), (None, 0))"
   ]
  },
  {
   "cell_type": "code",
   "execution_count": null,
   "metadata": {},
   "outputs": [],
   "source": []
  }
 ],
 "metadata": {
  "kernelspec": {
   "display_name": "Python 3",
   "language": "python",
   "name": "python3"
  },
  "language_info": {
   "codemirror_mode": {
    "name": "ipython",
    "version": 3
   },
   "file_extension": ".py",
   "mimetype": "text/x-python",
   "name": "python",
   "nbconvert_exporter": "python",
   "pygments_lexer": "ipython3",
   "version": "3.6.4"
  }
 },
 "nbformat": 4,
 "nbformat_minor": 2
}
