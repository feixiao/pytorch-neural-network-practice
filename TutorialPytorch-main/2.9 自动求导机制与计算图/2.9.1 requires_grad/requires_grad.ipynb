{
 "cells": [
  {
   "cell_type": "code",
   "execution_count": 8,
   "metadata": {},
   "outputs": [
    {
     "name": "stdout",
     "output_type": "stream",
     "text": [
      "True\n",
      "False\n"
     ]
    }
   ],
   "source": [
    "import torch\n",
    "\n",
    "x = torch.tensor([2, 2], dtype=torch.float32, requires_grad=True)\n",
    "y = torch.sum(x)\n",
    "print(y.requires_grad)\n",
    "\n",
    "x = torch.tensor([1, 2], dtype=torch.float32, requires_grad=False)\n",
    "y = torch.sum(x)\n",
    "print(y.requires_grad)\n",
    "\n",
    "# 输出结果\n",
    "# True\n",
    "# False"
   ]
  },
  {
   "cell_type": "code",
   "execution_count": 9,
   "metadata": {},
   "outputs": [
    {
     "name": "stdout",
     "output_type": "stream",
     "text": [
      "False\n",
      "True\n"
     ]
    }
   ],
   "source": [
    "x1 = torch.tensor([2, 2], dtype=torch.float32, requires_grad=False)\n",
    "x2 = torch.tensor([2, 2], dtype=torch.float32, requires_grad=False)\n",
    "x3 = torch.tensor([2, 2], dtype=torch.float32, requires_grad=False)\n",
    "y = torch.sum(x1 + x2 + x3)\n",
    "print(y.requires_grad)\n",
    "\n",
    "x1 = torch.tensor([2, 2], dtype=torch.float32, requires_grad=True)\n",
    "x2 = torch.tensor([2, 2], dtype=torch.float32, requires_grad=False)\n",
    "x3 = torch.tensor([2, 2], dtype=torch.float32, requires_grad=False)\n",
    "y = torch.sum(x1 + x2 + x3)\n",
    "print(y.requires_grad)\n",
    "\n",
    "# 输出结果：\n",
    "# False\n",
    "# True"
   ]
  },
  {
   "cell_type": "code",
   "execution_count": null,
   "metadata": {},
   "outputs": [],
   "source": []
  }
 ],
 "metadata": {
  "kernelspec": {
   "display_name": "Python 3",
   "language": "python",
   "name": "python3"
  },
  "language_info": {
   "codemirror_mode": {
    "name": "ipython",
    "version": 3
   },
   "file_extension": ".py",
   "mimetype": "text/x-python",
   "name": "python",
   "nbconvert_exporter": "python",
   "pygments_lexer": "ipython3",
   "version": "3.6.4"
  }
 },
 "nbformat": 4,
 "nbformat_minor": 2
}
