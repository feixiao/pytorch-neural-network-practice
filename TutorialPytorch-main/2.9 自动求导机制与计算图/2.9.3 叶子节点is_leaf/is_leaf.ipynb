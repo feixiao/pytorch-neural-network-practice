{
 "cells": [
  {
   "cell_type": "code",
   "execution_count": 1,
   "metadata": {},
   "outputs": [
    {
     "name": "stdout",
     "output_type": "stream",
     "text": [
      "x is leaf: True\n",
      "x is leaf: True\n",
      "x is leaf: True\n"
     ]
    }
   ],
   "source": [
    "import torch\n",
    "\n",
    "# 第一个\n",
    "# 所有不需要求导（requires_grad为False）的张量，都是叶子张量\n",
    "x = torch.tensor([1, 2], dtype=torch.float32, requires_grad=False)\n",
    "print(\"x is leaf:\", x.is_leaf)\n",
    "\n",
    "x = torch.tensor([1, 2], dtype=torch.float32, requires_grad=False, device=\"cuda\")\n",
    "print(\"x is leaf:\", x.is_leaf)\n",
    "\n",
    "x = torch.tensor([1, 2], dtype=torch.float32, requires_grad=False).cuda()\n",
    "print(\"x is leaf:\", x.is_leaf)\n",
    "\n",
    "# 输出结果：\n",
    "# x is leaf: True\n",
    "# x is leaf: True\n",
    "# x is leaf: True"
   ]
  },
  {
   "cell_type": "code",
   "execution_count": 2,
   "metadata": {},
   "outputs": [
    {
     "name": "stdout",
     "output_type": "stream",
     "text": [
      "x is leaf: True\n",
      "y is leaf: True\n"
     ]
    }
   ],
   "source": [
    "# 第二个\n",
    "#  依赖于不需要被求导的节点所生成的节点，依旧是叶子节点\n",
    "x = torch.tensor([1, 2], dtype=torch.float32, requires_grad=False)\n",
    "print(\"x is leaf:\", x.is_leaf)\n",
    "y = 2 * x\n",
    "print(\"y is leaf:\", y.is_leaf)\n",
    "# 输出结果：\n",
    "# x is leaf: True\n",
    "# y is leaf: True"
   ]
  },
  {
   "cell_type": "code",
   "execution_count": 4,
   "metadata": {},
   "outputs": [
    {
     "name": "stdout",
     "output_type": "stream",
     "text": [
      "x is leaf: True\n",
      "x is leaf: True\n"
     ]
    }
   ],
   "source": [
    "# 第三个\n",
    "# 由用户直接创建的需要求导的张量是叶子节点\n",
    "x = torch.tensor([1, 2], dtype=torch.float32, requires_grad=True)\n",
    "print(\"x is leaf:\", x.is_leaf)\n",
    "\n",
    "x = torch.tensor([1, 2], dtype=torch.float32, requires_grad=True, device=\"cuda\")\n",
    "print(\"x is leaf:\", x.is_leaf)\n",
    "\n",
    "# 输出结果：\n",
    "# x is leaf: True\n",
    "# x is leaf: True"
   ]
  },
  {
   "cell_type": "code",
   "execution_count": 5,
   "metadata": {},
   "outputs": [
    {
     "name": "stdout",
     "output_type": "stream",
     "text": [
      "x is leaf: False\n"
     ]
    }
   ],
   "source": [
    "# 第四个\n",
    "# 如果用户创建的需要求导的张量时没有指定设备，在创建后进行设备的切换，那么切换后获得的张量就不是叶子节点\n",
    "\n",
    "x = torch.tensor([1, 2], dtype=torch.float32, requires_grad=True).cuda()\n",
    "print(\"x is leaf:\", x.is_leaf)\n",
    "\n",
    "# 输出结果：\n",
    "# x is leaf: False"
   ]
  },
  {
   "cell_type": "code",
   "execution_count": 6,
   "metadata": {},
   "outputs": [
    {
     "name": "stdout",
     "output_type": "stream",
     "text": [
      "x is leaf: True\n",
      "y is leaf: False\n"
     ]
    }
   ],
   "source": [
    "# 第五\n",
    "# 依赖于其它需要求导的节点所生成的新节点，不是叶子节点。\n",
    "x = torch.tensor([1, 2], dtype=torch.float32, requires_grad=True)\n",
    "print(\"x is leaf:\", x.is_leaf)\n",
    "y = 2 * x\n",
    "print(\"y is leaf:\", y.is_leaf)\n",
    "# 输出结果：\n",
    "# x is leaf: True\n",
    "# y is leaf: False"
   ]
  },
  {
   "cell_type": "code",
   "execution_count": null,
   "metadata": {},
   "outputs": [],
   "source": []
  },
  {
   "cell_type": "code",
   "execution_count": null,
   "metadata": {},
   "outputs": [],
   "source": []
  }
 ],
 "metadata": {
  "kernelspec": {
   "display_name": "Python 3",
   "language": "python",
   "name": "python3"
  },
  "language_info": {
   "codemirror_mode": {
    "name": "ipython",
    "version": 3
   },
   "file_extension": ".py",
   "mimetype": "text/x-python",
   "name": "python",
   "nbconvert_exporter": "python",
   "pygments_lexer": "ipython3",
   "version": "3.6.4"
  }
 },
 "nbformat": 4,
 "nbformat_minor": 2
}
