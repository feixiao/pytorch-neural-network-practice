{
 "cells": [
  {
   "cell_type": "code",
   "execution_count": 1,
   "metadata": {},
   "outputs": [],
   "source": [
    "import torch\n",
    "import torch.nn as nn\n",
    "\n",
    "# 定义两个神经网络\n",
    "class ModelA(nn.Module):\n",
    "    def __init__(self):\n",
    "        super(ModelA, self).__init__()\n",
    "        self.layer = nn.Linear(1, 1)\n",
    "\n",
    "    def forward(self, x):\n",
    "        out = self.layer(x)\n",
    "        return out\n",
    "    \n",
    "class ModelB(nn.Module):\n",
    "    def __init__(self):\n",
    "        super(ModelB, self).__init__()\n",
    "        self.layer = nn.Linear(1, 1, bias=False)\n",
    "\n",
    "    def forward(self, x):\n",
    "        out = self.layer(x)\n",
    "        return out"
   ]
  },
  {
   "cell_type": "code",
   "execution_count": 2,
   "metadata": {},
   "outputs": [
    {
     "name": "stdout",
     "output_type": "stream",
     "text": [
      "OrderedDict([('layer.weight', tensor([[-0.2288]])), ('layer.bias', tensor([-0.9926]))])\n",
      "OrderedDict([('layer.weight', tensor([[0.3053]]))])\n"
     ]
    }
   ],
   "source": [
    "model_a = ModelA()\n",
    "model_b = ModelB()\n",
    "print(model_a.state_dict())\n",
    "print(model_b.state_dict())\n",
    "# 保存两个神经网络的参数\n",
    "all_models = {\"model_a\": model_a.state_dict(), \"model_b\":model_b.state_dict()}\n",
    "torch.save(obj=all_models, f=\"all_models.pth\")\n",
    "# 输出结果：\n",
    "# OrderedDict([('layer.weight', tensor([[-0.2395]])), ('layer.bias', tensor([-0.6963]))])\n",
    "# OrderedDict([('layer.weight', tensor([[0.6844]]))])"
   ]
  },
  {
   "cell_type": "code",
   "execution_count": 3,
   "metadata": {},
   "outputs": [
    {
     "name": "stdout",
     "output_type": "stream",
     "text": [
      "OrderedDict([('layer.weight', tensor([[-0.2288]])), ('layer.bias', tensor([-0.9926]))])\n",
      "OrderedDict([('layer.weight', tensor([[0.3053]]))])\n"
     ]
    }
   ],
   "source": [
    "# 加载两个神经网络的参数\n",
    "all_models_states = torch.load(\"all_models.pth\")\n",
    "print(all_models_states[\"model_a\"])\n",
    "print(all_models_states[\"model_b\"])\n",
    "# 输出结果：\n",
    "# OrderedDict([('layer.weight', tensor([[-0.2395]])), ('layer.bias', tensor([-0.6963]))])\n",
    "# OrderedDict([('layer.weight', tensor([[0.6844]]))])"
   ]
  },
  {
   "cell_type": "code",
   "execution_count": null,
   "metadata": {},
   "outputs": [],
   "source": []
  },
  {
   "cell_type": "code",
   "execution_count": null,
   "metadata": {},
   "outputs": [],
   "source": []
  }
 ],
 "metadata": {
  "kernelspec": {
   "display_name": "Python 3",
   "language": "python",
   "name": "python3"
  },
  "language_info": {
   "codemirror_mode": {
    "name": "ipython",
    "version": 3
   },
   "file_extension": ".py",
   "mimetype": "text/x-python",
   "name": "python",
   "nbconvert_exporter": "python",
   "pygments_lexer": "ipython3",
   "version": "3.6.4"
  }
 },
 "nbformat": 4,
 "nbformat_minor": 2
}
